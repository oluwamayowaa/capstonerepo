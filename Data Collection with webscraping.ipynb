{
  "cells": [
    {
      "cell_type": "markdown",
      "metadata": {
        "id": "view-in-github",
        "colab_type": "text"
      },
      "source": [
        "<a href=\"https://colab.research.google.com/github/oluwamayowaa/capstonerepo/blob/master/Data%20Collection%20with%20webscraping.ipynb\" target=\"_parent\"><img src=\"https://colab.research.google.com/assets/colab-badge.svg\" alt=\"Open In Colab\"/></a>"
      ]
    },
    {
      "cell_type": "markdown",
      "metadata": {
        "id": "z1ApsMiUNbjF"
      },
      "source": [
        "<p style=\"text-align:center\">\n",
        "    <a href=\"https://skills.network/?utm_medium=Exinfluencer&utm_source=Exinfluencer&utm_content=000026UJ&utm_term=10006555&utm_id=NA-SkillsNetwork-Channel-SkillsNetworkCoursesIBMDS0321ENSkillsNetwork26802033-2022-01-01\" target=\"_blank\">\n",
        "    <img src=\"https://cf-courses-data.s3.us.cloud-object-storage.appdomain.cloud/assets/logos/SN_web_lightmode.png\" width=\"200\" alt=\"Skills Network Logo\"  />\n",
        "    </a>\n",
        "</p>\n"
      ]
    },
    {
      "cell_type": "markdown",
      "metadata": {
        "id": "ElpNE1hLNbjq"
      },
      "source": [
        "# **Space X  Falcon 9 First Stage Landing Prediction**\n"
      ]
    },
    {
      "cell_type": "markdown",
      "metadata": {
        "id": "p2PoWk6iNbjz"
      },
      "source": [
        "## Web scraping Falcon 9 and Falcon Heavy Launches Records from Wikipedia\n"
      ]
    },
    {
      "cell_type": "markdown",
      "metadata": {
        "id": "GhFJPqVxNbj2"
      },
      "source": [
        "Estimated time needed: **40** minutes\n"
      ]
    },
    {
      "cell_type": "markdown",
      "metadata": {
        "id": "Aw1DkIISNbj5"
      },
      "source": [
        "In this lab, you will be performing web scraping to collect Falcon 9 historical launch records from a Wikipedia page titled `List of Falcon 9 and Falcon Heavy launches`\n",
        "\n",
        "[https://en.wikipedia.org/wiki/List_of_Falcon\\_9\\_and_Falcon_Heavy_launches](https://en.wikipedia.org/wiki/List_of_Falcon\\_9\\_and_Falcon_Heavy_launches?utm_medium=Exinfluencer&utm_source=Exinfluencer&utm_content=000026UJ&utm_term=10006555&utm_id=NA-SkillsNetwork-Channel-SkillsNetworkCoursesIBMDS0321ENSkillsNetwork26802033-2022-01-01)\n"
      ]
    },
    {
      "cell_type": "markdown",
      "metadata": {
        "id": "lCordXQ3Nbj-"
      },
      "source": [
        "![](https://cf-courses-data.s3.us.cloud-object-storage.appdomain.cloud/IBM-DS0321EN-SkillsNetwork/labs/module\\_1\\_L2/images/Falcon9\\_rocket_family.svg)\n"
      ]
    },
    {
      "cell_type": "markdown",
      "metadata": {
        "id": "v5P5FBVCNbkC"
      },
      "source": [
        "Falcon 9 first stage will land successfully\n"
      ]
    },
    {
      "cell_type": "markdown",
      "metadata": {
        "id": "xdAaD4h1NbkG"
      },
      "source": [
        "![](https://cf-courses-data.s3.us.cloud-object-storage.appdomain.cloud/IBMDeveloperSkillsNetwork-DS0701EN-SkillsNetwork/api/Images/landing\\_1.gif)\n"
      ]
    },
    {
      "cell_type": "markdown",
      "metadata": {
        "id": "ObWuEykjNbkK"
      },
      "source": [
        "Several examples of an unsuccessful landing are shown here:\n"
      ]
    },
    {
      "cell_type": "markdown",
      "metadata": {
        "id": "2DWdfeOENbkR"
      },
      "source": [
        "![](https://cf-courses-data.s3.us.cloud-object-storage.appdomain.cloud/IBMDeveloperSkillsNetwork-DS0701EN-SkillsNetwork/api/Images/crash.gif)\n"
      ]
    },
    {
      "cell_type": "markdown",
      "metadata": {
        "id": "mw5is8DhNbkU"
      },
      "source": [
        "More specifically, the launch records are stored in a HTML table shown below:\n"
      ]
    },
    {
      "cell_type": "markdown",
      "metadata": {
        "id": "nV7vGZIiNbkY"
      },
      "source": [
        "![](https://cf-courses-data.s3.us.cloud-object-storage.appdomain.cloud/IBM-DS0321EN-SkillsNetwork/labs/module\\_1\\_L2/images/falcon9-launches-wiki.png)\n"
      ]
    },
    {
      "cell_type": "markdown",
      "metadata": {
        "id": "MJVOABLFNbka"
      },
      "source": [
        "## Objectives\n",
        "\n",
        "Web scrap Falcon 9 launch records with `BeautifulSoup`:\n",
        "\n",
        "*   Extract a Falcon 9 launch records HTML table from Wikipedia\n",
        "*   Parse the table and convert it into a Pandas data frame\n"
      ]
    },
    {
      "cell_type": "markdown",
      "metadata": {
        "id": "5EbIlN0XNbkd"
      },
      "source": [
        "First let's import required packages for this lab\n"
      ]
    },
    {
      "cell_type": "code",
      "execution_count": 1,
      "metadata": {
        "colab": {
          "base_uri": "https://localhost:8080/"
        },
        "id": "wo2uildINbkg",
        "outputId": "f5c971c5-5875-407b-8b9c-da54a200712a"
      },
      "outputs": [
        {
          "output_type": "stream",
          "name": "stdout",
          "text": [
            "Looking in indexes: https://pypi.org/simple, https://us-python.pkg.dev/colab-wheels/public/simple/\n",
            "Requirement already satisfied: beautifulsoup4 in /usr/local/lib/python3.7/dist-packages (4.6.3)\n",
            "Looking in indexes: https://pypi.org/simple, https://us-python.pkg.dev/colab-wheels/public/simple/\n",
            "Requirement already satisfied: requests in /usr/local/lib/python3.7/dist-packages (2.23.0)\n",
            "Requirement already satisfied: urllib3!=1.25.0,!=1.25.1,<1.26,>=1.21.1 in /usr/local/lib/python3.7/dist-packages (from requests) (1.24.3)\n",
            "Requirement already satisfied: idna<3,>=2.5 in /usr/local/lib/python3.7/dist-packages (from requests) (2.10)\n",
            "Requirement already satisfied: chardet<4,>=3.0.2 in /usr/local/lib/python3.7/dist-packages (from requests) (3.0.4)\n",
            "Requirement already satisfied: certifi>=2017.4.17 in /usr/local/lib/python3.7/dist-packages (from requests) (2022.5.18.1)\n"
          ]
        }
      ],
      "source": [
        "!pip3 install beautifulsoup4\n",
        "!pip3 install requests"
      ]
    },
    {
      "cell_type": "code",
      "execution_count": 2,
      "metadata": {
        "id": "LMaaAiMrNbks"
      },
      "outputs": [],
      "source": [
        "import sys\n",
        "\n",
        "import requests\n",
        "from bs4 import BeautifulSoup\n",
        "import re\n",
        "import unicodedata\n",
        "import pandas as pd"
      ]
    },
    {
      "cell_type": "markdown",
      "metadata": {
        "id": "QvCgfuhuNbkw"
      },
      "source": [
        "and we will provide some helper functions for you to process web scraped HTML table\n"
      ]
    },
    {
      "cell_type": "code",
      "execution_count": 3,
      "metadata": {
        "id": "gcjkdnWGNbkz"
      },
      "outputs": [],
      "source": [
        "def date_time(table_cells):\n",
        "    \"\"\"\n",
        "    This function returns the data and time from the HTML  table cell\n",
        "    Input: the  element of a table data cell extracts extra row\n",
        "    \"\"\"\n",
        "    return [data_time.strip() for data_time in list(table_cells.strings)][0:2]\n",
        "\n",
        "def booster_version(table_cells):\n",
        "    \"\"\"\n",
        "    This function returns the booster version from the HTML  table cell \n",
        "    Input: the  element of a table data cell extracts extra row\n",
        "    \"\"\"\n",
        "    out=''.join([booster_version for i,booster_version in enumerate( table_cells.strings) if i%2==0][0:-1])\n",
        "    return out\n",
        "\n",
        "def landing_status(table_cells):\n",
        "    \"\"\"\n",
        "    This function returns the landing status from the HTML table cell \n",
        "    Input: the  element of a table data cell extracts extra row\n",
        "    \"\"\"\n",
        "    out=[i for i in table_cells.strings][0]\n",
        "    return out\n",
        "\n",
        "\n",
        "def get_mass(table_cells):\n",
        "    mass=unicodedata.normalize(\"NFKD\", table_cells.text).strip()\n",
        "    if mass:\n",
        "        mass.find(\"kg\")\n",
        "        new_mass=mass[0:mass.find(\"kg\")+2]\n",
        "    else:\n",
        "        new_mass=0\n",
        "    return new_mass\n",
        "\n",
        "\n",
        "def extract_column_from_header(row):\n",
        "    \"\"\"\n",
        "    This function returns the landing status from the HTML table cell \n",
        "    Input: the  element of a table data cell extracts extra row\n",
        "    \"\"\"\n",
        "    if (row.br):\n",
        "        row.br.extract()\n",
        "    if row.a:\n",
        "        row.a.extract()\n",
        "    if row.sup:\n",
        "        row.sup.extract()\n",
        "        \n",
        "    colunm_name = ' '.join(row.contents)\n",
        "    \n",
        "    # Filter the digit and empty names\n",
        "    if not(colunm_name.strip().isdigit()):\n",
        "        colunm_name = colunm_name.strip()\n",
        "        return colunm_name    \n"
      ]
    },
    {
      "cell_type": "markdown",
      "metadata": {
        "id": "J-gOidp8Nbk2"
      },
      "source": [
        "To keep the lab tasks consistent, you will be asked to scrape the data from a snapshot of the  `List of Falcon 9 and Falcon Heavy launches` Wikipage updated on\n",
        "`9th June 2021`\n"
      ]
    },
    {
      "cell_type": "code",
      "execution_count": 4,
      "metadata": {
        "id": "lBQKdfgDNbk6"
      },
      "outputs": [],
      "source": [
        "static_url = \"https://en.wikipedia.org/w/index.php?title=List_of_Falcon_9_and_Falcon_Heavy_launches&oldid=1027686922\""
      ]
    },
    {
      "cell_type": "markdown",
      "metadata": {
        "id": "Yf6L5a5hNbk8"
      },
      "source": [
        "Next, request the HTML page from the above URL and get a `response` object\n"
      ]
    },
    {
      "cell_type": "markdown",
      "metadata": {
        "id": "v4arow0ONbk_"
      },
      "source": [
        "### TASK 1: Request the Falcon9 Launch Wiki page from its URL\n"
      ]
    },
    {
      "cell_type": "markdown",
      "metadata": {
        "id": "RokY-S5eNblA"
      },
      "source": [
        "First, let's perform an HTTP GET method to request the Falcon9 Launch HTML page, as an HTTP response.\n"
      ]
    },
    {
      "cell_type": "code",
      "execution_count": 5,
      "metadata": {
        "colab": {
          "base_uri": "https://localhost:8080/"
        },
        "id": "BLaYVux_NblC",
        "outputId": "0d79df01-3e9b-4b4a-da4c-7dbb6b9b42ff"
      },
      "outputs": [
        {
          "output_type": "stream",
          "name": "stdout",
          "text": [
            "200\n"
          ]
        }
      ],
      "source": [
        "# use requests.get() method with the provided static_url\n",
        "# assign the response to a object\n",
        "x = requests.get(static_url)\n",
        "print(x.status_code)"
      ]
    },
    {
      "cell_type": "markdown",
      "metadata": {
        "id": "8fwCX91_NblI"
      },
      "source": [
        "Create a `BeautifulSoup` object from the HTML `response`\n"
      ]
    },
    {
      "cell_type": "code",
      "execution_count": 6,
      "metadata": {
        "id": "96mJyb3XNblK"
      },
      "outputs": [],
      "source": [
        "# Use BeautifulSoup() to create a BeautifulSoup object from a response text content\n",
        "soup = BeautifulSoup(x.content, \"html.parser\")"
      ]
    },
    {
      "cell_type": "markdown",
      "metadata": {
        "id": "ZozT1etMNblL"
      },
      "source": [
        "Print the page title to verify if the `BeautifulSoup` object was created properly\n"
      ]
    },
    {
      "cell_type": "code",
      "execution_count": 7,
      "metadata": {
        "colab": {
          "base_uri": "https://localhost:8080/"
        },
        "id": "RN3vqXrsNblM",
        "outputId": "94c7096e-cb91-411a-b3a9-10dbc90f06a2"
      },
      "outputs": [
        {
          "output_type": "execute_result",
          "data": {
            "text/plain": [
              "<title>List of Falcon 9 and Falcon Heavy launches - Wikipedia</title>"
            ]
          },
          "metadata": {},
          "execution_count": 7
        }
      ],
      "source": [
        "# Use soup.title attribute\n",
        "soup.title"
      ]
    },
    {
      "cell_type": "markdown",
      "metadata": {
        "id": "JCiWzElbNblN"
      },
      "source": [
        "### TASK 2: Extract all column/variable names from the HTML table header\n"
      ]
    },
    {
      "cell_type": "markdown",
      "metadata": {
        "id": "yhc_Vi8UNblQ"
      },
      "source": [
        "Next, we want to collect all relevant column names from the HTML table header\n"
      ]
    },
    {
      "cell_type": "markdown",
      "metadata": {
        "id": "0XoRhuAcNblR"
      },
      "source": [
        "Let's try to find all tables on the wiki page first. If you need to refresh your memory about `BeautifulSoup`, please check the external reference link towards the end of this lab\n"
      ]
    },
    {
      "cell_type": "code",
      "execution_count": 8,
      "metadata": {
        "id": "xguprWhANblS"
      },
      "outputs": [],
      "source": [
        "# Use the find_all function in the BeautifulSoup object, with element type `table`\n",
        "# Assign the result to a list called `html_tables`\n",
        "\n",
        "html_tables =  soup.find_all('tr')"
      ]
    },
    {
      "cell_type": "markdown",
      "metadata": {
        "id": "GB83CHKiNblT"
      },
      "source": [
        "Starting from the third table is our target table contains the actual launch records.\n"
      ]
    },
    {
      "cell_type": "code",
      "execution_count": 9,
      "metadata": {
        "colab": {
          "base_uri": "https://localhost:8080/"
        },
        "id": "hPW_PwolNblV",
        "outputId": "b6aba3ed-5019-4822-a0d8-fe6a0efeded0"
      },
      "outputs": [
        {
          "output_type": "stream",
          "name": "stdout",
          "text": [
            "<tr>\n",
            "<th scope=\"col\">Flight No.\n",
            "</th>\n",
            "<th scope=\"col\">Date and<br/>time (<a href=\"/wiki/Coordinated_Universal_Time\" title=\"Coordinated Universal Time\">UTC</a>)\n",
            "</th>\n",
            "<th scope=\"col\"><a href=\"/wiki/List_of_Falcon_9_first-stage_boosters\" title=\"List of Falcon 9 first-stage boosters\">Version,<br/>Booster</a> <sup class=\"reference\" id=\"cite_ref-booster_11-0\"><a href=\"#cite_note-booster-11\">[b]</a></sup>\n",
            "</th>\n",
            "<th scope=\"col\">Launch site\n",
            "</th>\n",
            "<th scope=\"col\">Payload<sup class=\"reference\" id=\"cite_ref-Dragon_12-0\"><a href=\"#cite_note-Dragon-12\">[c]</a></sup>\n",
            "</th>\n",
            "<th scope=\"col\">Payload mass\n",
            "</th>\n",
            "<th scope=\"col\">Orbit\n",
            "</th>\n",
            "<th scope=\"col\">Customer\n",
            "</th>\n",
            "<th scope=\"col\">Launch<br/>outcome\n",
            "</th>\n",
            "<th scope=\"col\"><a href=\"/wiki/Falcon_9_first-stage_landing_tests\" title=\"Falcon 9 first-stage landing tests\">Booster<br/>landing</a>\n",
            "</th></tr>\n"
          ]
        }
      ],
      "source": [
        "# Let's print the third table and check its content\n",
        "first_launch_table = html_tables[2]\n",
        "print(first_launch_table)"
      ]
    },
    {
      "cell_type": "markdown",
      "metadata": {
        "id": "R9CxXLpaNblX"
      },
      "source": [
        "You should able to see the columns names embedded in the table header elements `<th>` as follows:\n"
      ]
    },
    {
      "cell_type": "markdown",
      "metadata": {
        "id": "2Rkb6HH4NblY"
      },
      "source": [
        "```\n",
        "<tr>\n",
        "<th scope=\"col\">Flight No.\n",
        "</th>\n",
        "<th scope=\"col\">Date and<br/>time (<a href=\"/wiki/Coordinated_Universal_Time\" title=\"Coordinated Universal Time\">UTC</a>)\n",
        "</th>\n",
        "<th scope=\"col\"><a href=\"/wiki/List_of_Falcon_9_first-stage_boosters\" title=\"List of Falcon 9 first-stage boosters\">Version,<br/>Booster</a> <sup class=\"reference\" id=\"cite_ref-booster_11-0\"><a href=\"#cite_note-booster-11\">[b]</a></sup>\n",
        "</th>\n",
        "<th scope=\"col\">Launch site\n",
        "</th>\n",
        "<th scope=\"col\">Payload<sup class=\"reference\" id=\"cite_ref-Dragon_12-0\"><a href=\"#cite_note-Dragon-12\">[c]</a></sup>\n",
        "</th>\n",
        "<th scope=\"col\">Payload mass\n",
        "</th>\n",
        "<th scope=\"col\">Orbit\n",
        "</th>\n",
        "<th scope=\"col\">Customer\n",
        "</th>\n",
        "<th scope=\"col\">Launch<br/>outcome\n",
        "</th>\n",
        "<th scope=\"col\"><a href=\"/wiki/Falcon_9_first-stage_landing_tests\" title=\"Falcon 9 first-stage landing tests\">Booster<br/>landing</a>\n",
        "</th></tr>\n",
        "```\n"
      ]
    },
    {
      "cell_type": "markdown",
      "metadata": {
        "id": "J-pMecQoNbla"
      },
      "source": [
        "Next, we just need to iterate through the `<th>` elements and apply the provided `extract_column_from_header()` to extract column name one by one\n"
      ]
    },
    {
      "cell_type": "code",
      "execution_count": 10,
      "metadata": {
        "id": "_6HeraVHNblb"
      },
      "outputs": [],
      "source": [
        "column_names = []\n",
        "\n",
        "# Apply find_all() function with `th` element on first_launch_table\n",
        "# Iterate each th element and apply the provided extract_column_from_header() to get a column name\n",
        "# Append the Non-empty column name (`if name is not None and len(name) > 0`) into a list called column_names\n",
        "\n",
        "\n",
        "element = soup.find_all('th')\n",
        "for row in range(len(element)):\n",
        "    try:\n",
        "        name = extract_column_from_header(element[row])\n",
        "        if (name is not None and len(name) > 0):\n",
        "            column_names.append(name)\n",
        "    except:\n",
        "        pass"
      ]
    },
    {
      "cell_type": "markdown",
      "metadata": {
        "id": "zIZsE3PhNblc"
      },
      "source": [
        "Check the extracted column names\n"
      ]
    },
    {
      "cell_type": "code",
      "execution_count": 11,
      "metadata": {
        "colab": {
          "base_uri": "https://localhost:8080/"
        },
        "id": "YyNYebi_Nbld",
        "outputId": "893f11ef-baf4-4b63-a4d6-1bd9dc89d533"
      },
      "outputs": [
        {
          "output_type": "stream",
          "name": "stdout",
          "text": [
            "['Flight No.', 'Date and time ( )', 'Launch site', 'Payload', 'Payload mass', 'Orbit', 'Customer', 'Launch outcome', 'Flight No.', 'Date and time ( )', 'Launch site', 'Payload', 'Payload mass', 'Orbit', 'Customer', 'Launch outcome', 'Flight No.', 'Date and time ( )', 'Launch site', 'Payload', 'Payload mass', 'Orbit', 'Customer', 'Launch outcome', 'Flight No.', 'Date and time ( )', 'Launch site', 'Payload', 'Payload mass', 'Orbit', 'Customer', 'Launch outcome', 'N/A', 'Flight No.', 'Date and time ( )', 'Launch site', 'Payload', 'Payload mass', 'Orbit', 'Customer', 'Launch outcome', 'Flight No.', 'Date and time ( )', 'Launch site', 'Payload', 'Payload mass', 'Orbit', 'Customer', 'Launch outcome', 'Flight No.', 'Date and time ( )', 'Launch site', 'Payload', 'Payload mass', 'Orbit', 'Customer', 'Launch outcome', 'FH 2', 'FH 3', 'Flight No.', 'Date and time ( )', 'Launch site', 'Payload', 'Payload mass', 'Orbit', 'Customer', 'Launch outcome', 'Date and time ( )', 'Launch site', 'Payload', 'Payload mass', 'Orbit', 'Customer', 'Launch outcome', 'Date and time ( )', 'Launch site', 'Payload', 'Orbit', 'Customer', 'Date and time ( )', 'Launch site', 'Payload', 'Orbit', 'Customer', 'Date and time ( )', 'Launch site', 'Payload', 'Orbit', 'Customer', 'Date and time ( )', 'Launch site', 'Payload', 'Orbit', 'Customer', 'Demo flights', 'logistics', 'Crewed missions', 'Commercial satellites', 'Scientific satellites', 'Military satellites', 'Rideshares', 'Current', 'In development', 'Retired', 'Cancelled', 'Spacecraft', 'Cargo', 'Crewed', 'Test vehicles', 'Current', 'Retired', 'Unflown', 'Orbital', 'Atmospheric', 'Landing sites', 'Other facilities', 'Support', 'Contracts', 'R&D programs', 'Key people', 'Related', 'General', 'General', 'People', 'Vehicles', 'Launches by rocket type', 'Launches by spaceport', 'Agencies, companies and facilities', 'Other mission lists and timelines']\n"
          ]
        }
      ],
      "source": [
        "print(column_names)"
      ]
    },
    {
      "cell_type": "markdown",
      "metadata": {
        "id": "tM28qC_4Nblf"
      },
      "source": [
        "## TASK 3: Create a data frame by parsing the launch HTML tables\n"
      ]
    },
    {
      "cell_type": "markdown",
      "metadata": {
        "id": "B6gpK8JWNblh"
      },
      "source": [
        "We will create an empty dictionary with keys from the extracted column names in the previous task. Later, this dictionary will be converted into a Pandas dataframe\n"
      ]
    },
    {
      "cell_type": "code",
      "execution_count": 12,
      "metadata": {
        "id": "np686MQONbli"
      },
      "outputs": [],
      "source": [
        "launch_dict= dict.fromkeys(column_names)\n",
        "\n",
        "# Remove an irrelvant column\n",
        "del launch_dict['Date and time ( )']\n",
        "\n",
        "# Let's initial the launch_dict with each value to be an empty list\n",
        "launch_dict['Flight No.'] = []\n",
        "launch_dict['Launch site'] = []\n",
        "launch_dict['Payload'] = []\n",
        "launch_dict['Payload mass'] = []\n",
        "launch_dict['Orbit'] = []\n",
        "launch_dict['Customer'] = []\n",
        "launch_dict['Launch outcome'] = []\n",
        "# Added some new columns\n",
        "launch_dict['Version Booster']=[]\n",
        "launch_dict['Booster landing']=[]\n",
        "launch_dict['Date']=[]\n",
        "launch_dict['Time']=[]"
      ]
    },
    {
      "cell_type": "markdown",
      "metadata": {
        "id": "2CZNuTbGNblj"
      },
      "source": [
        "Next, we just need to fill up the `launch_dict` with launch records extracted from table rows.\n"
      ]
    },
    {
      "cell_type": "markdown",
      "metadata": {
        "id": "huXS9I_QNblk"
      },
      "source": [
        "Usually, HTML tables in Wiki pages are likely to contain unexpected annotations and other types of noises, such as reference links `B0004.1[8]`, missing values `N/A [e]`, inconsistent formatting, etc.\n"
      ]
    },
    {
      "cell_type": "markdown",
      "metadata": {
        "id": "Wl1ovhOZNbll"
      },
      "source": [
        "To simplify the parsing process, we have provided an incomplete code snippet below to help you to fill up the `launch_dict`. Please complete the following code snippet with TODOs or you can choose to write your own logic to parse all launch tables:\n"
      ]
    },
    {
      "cell_type": "code",
      "execution_count": 14,
      "metadata": {
        "colab": {
          "base_uri": "https://localhost:8080/",
          "height": 1000
        },
        "id": "QwFWlA-JNblm",
        "outputId": "a7955545-69b6-49cb-adac-8613d4d19d96"
      },
      "outputs": [
        {
          "output_type": "stream",
          "name": "stdout",
          "text": [
            "F9 v1.0B0003.1\n",
            "F9 v1.0B0004.1\n",
            "F9 v1.0B0005.1\n",
            "F9 v1.0B0006.1\n",
            "F9 v1.0B0007.1\n",
            "F9 v1.1B1003\n",
            "F9 v1.1\n",
            "F9 v1.1\n",
            "F9 v1.1\n",
            "F9 v1.1\n",
            "F9 v1.1\n",
            "F9 v1.1\n",
            "F9 v1.1\n",
            "F9 v1.1\n",
            "F9 v1.1\n",
            "F9 v1.1\n",
            "F9 v1.1\n",
            "F9 v1.1\n",
            "F9 v1.1\n",
            "F9 FT\n",
            "F9 v1.1\n",
            "F9 FT\n",
            "F9 FT\n",
            "F9 FT\n",
            "F9 FT\n",
            "F9 FT\n",
            "F9 FT\n",
            "F9 FT\n",
            "F9 FT\n",
            "F9 FT\n",
            "F9 FT\n",
            "F9 FT♺\n",
            "F9 FT\n",
            "F9 FT\n",
            "F9 FT\n",
            "F9 FTB1029.2\n",
            "F9 FT\n",
            "F9 FT\n",
            "F9 B4\n",
            "F9 FT\n",
            "F9 B4\n",
            "F9 B4\n",
            "F9 FTB1031.2\n",
            "F9 B4\n",
            "F9 FTB1035.2\n",
            "F9 FTB1036.2\n",
            "F9 B4\n",
            "F9 FTB1032.2\n",
            "F9 FTB1038.2\n",
            "F9 B4\n",
            "F9 B4B1041.2\n",
            "F9 B4B1039.2\n",
            "F9 B4\n",
            "F9 B5B1046.1\n",
            "F9 B4B1043.2\n",
            "F9 B4B1040.2\n",
            "F9 B4B1045.2\n",
            "F9 B5\n",
            "F9 B5B1048\n",
            "F9 B5B1046.2\n",
            "F9 B5\n",
            "F9 B5B1048.2\n",
            "F9 B5B1047.2\n",
            "F9 B5B1046.3\n",
            "F9 B5\n",
            "F9 B5\n",
            "F9 B5B1049.2\n",
            "F9 B5B1048.3\n",
            "F9 B5[268]\n",
            "F9 B5\n",
            "F9 B5B1049.3\n",
            "F9 B5B1051.2\n",
            "F9 B5B1056.2\n",
            "F9 B5B1047.3\n",
            "F9 B5\n",
            "F9 B5\n",
            "F9 B5B1056.3\n",
            "F9 B5\n",
            "F9 B5\n",
            "F9 B5\n",
            "F9 B5\n",
            "F9 B5\n",
            "F9 B5\n",
            "F9 B5\n",
            "F9 B5\n",
            "F9 B5\n",
            "F9 B5\n",
            "F9 B5\n",
            "F9 B5B1058.2\n",
            "F9 B5\n",
            "F9 B5B1049.6\n",
            "F9 B5\n",
            "F9 B5B1060.2\n",
            "F9 B5B1058.3\n",
            "F9 B5B1051.6\n",
            "F9 B5\n",
            "F9 B5\n",
            "F9 B5\n",
            "F9 B5\n",
            "F9 B5 ♺\n",
            "F9 B5 ♺\n",
            "F9 B5 ♺\n",
            "F9 B5 ♺\n",
            "F9 B5\n",
            "F9 B5B1051.8\n",
            "F9 B5B1058.5\n"
          ]
        },
        {
          "output_type": "error",
          "ename": "AttributeError",
          "evalue": "ignored",
          "traceback": [
            "\u001b[0;31m---------------------------------------------------------------------------\u001b[0m",
            "\u001b[0;31mAttributeError\u001b[0m                            Traceback (most recent call last)",
            "\u001b[0;32m<ipython-input-14-fe5cefdfedd0>\u001b[0m in \u001b[0;36m<module>\u001b[0;34m()\u001b[0m\n\u001b[1;32m     68\u001b[0m             \u001b[0;31m# Customer\u001b[0m\u001b[0;34m\u001b[0m\u001b[0;34m\u001b[0m\u001b[0;34m\u001b[0m\u001b[0m\n\u001b[1;32m     69\u001b[0m             \u001b[0;31m# TODO: Append the customer into launch_dict with key `Customer`\u001b[0m\u001b[0;34m\u001b[0m\u001b[0;34m\u001b[0m\u001b[0;34m\u001b[0m\u001b[0m\n\u001b[0;32m---> 70\u001b[0;31m             \u001b[0mcustomer\u001b[0m \u001b[0;34m=\u001b[0m \u001b[0mrow\u001b[0m\u001b[0;34m[\u001b[0m\u001b[0;36m6\u001b[0m\u001b[0;34m]\u001b[0m\u001b[0;34m.\u001b[0m\u001b[0ma\u001b[0m\u001b[0;34m.\u001b[0m\u001b[0mstring\u001b[0m\u001b[0;34m\u001b[0m\u001b[0;34m\u001b[0m\u001b[0m\n\u001b[0m\u001b[1;32m     71\u001b[0m             \u001b[0mlaunch_dict\u001b[0m\u001b[0;34m[\u001b[0m\u001b[0;34m'Customer'\u001b[0m\u001b[0;34m]\u001b[0m\u001b[0;34m.\u001b[0m\u001b[0mappend\u001b[0m\u001b[0;34m(\u001b[0m\u001b[0mcustomer\u001b[0m\u001b[0;34m)\u001b[0m\u001b[0;34m\u001b[0m\u001b[0;34m\u001b[0m\u001b[0m\n\u001b[1;32m     72\u001b[0m             \u001b[0;31m#print(customer)\u001b[0m\u001b[0;34m\u001b[0m\u001b[0;34m\u001b[0m\u001b[0;34m\u001b[0m\u001b[0m\n",
            "\u001b[0;31mAttributeError\u001b[0m: 'NoneType' object has no attribute 'string'"
          ]
        }
      ],
      "source": [
        "extracted_row = 0\n",
        "#Extract each table \n",
        "for table_number,table in enumerate(soup.find_all('table',\"wikitable plainrowheaders collapsible\")):\n",
        "   # get table row \n",
        "    for rows in table.find_all(\"tr\"):\n",
        "        #check to see if first table heading is as number corresponding to launch a number \n",
        "        if rows.th:\n",
        "            if rows.th.string:\n",
        "                flight_number=rows.th.string.strip()\n",
        "                flag=flight_number.isdigit()\n",
        "        else:\n",
        "            flag=False\n",
        "        #get table element \n",
        "        row=rows.find_all('td')\n",
        "        #if it is number save cells in a dictonary \n",
        "        if flag:\n",
        "            extracted_row += 1\n",
        "            # Flight Number value\n",
        "            # TODO: Append the flight_number into launch_dict with key `Flight No.`\n",
        "            launch_dict['Flight No.'].append(flight_number)\n",
        "            #print(flight_number)\n",
        "            datatimelist=date_time(row[0])\n",
        "            \n",
        "            # Date value\n",
        "            # TODO: Append the date into launch_dict with key `Date`\n",
        "            date = datatimelist[0].strip(',')\n",
        "            launch_dict['Date'].append(date)\n",
        "            #print(date)\n",
        "            \n",
        "            # Time value\n",
        "            # TODO: Append the time into launch_dict with key `Time`\n",
        "            time = datatimelist[1]\n",
        "            launch_dict['Time'].append(time)\n",
        "            #print(time)\n",
        "              \n",
        "            # Booster version\n",
        "            # TODO: Append the bv into launch_dict with key `Version Booster`\n",
        "            bv=booster_version(row[1])\n",
        "            if not(bv):\n",
        "                bv=row[1].a.string\n",
        "                launch_dict['Version Booster'].append(bv)\n",
        "            print(bv)\n",
        "            \n",
        "            # Launch Site\n",
        "            # TODO: Append the bv into launch_dict with key `Launch Site`\n",
        "            launch_site = row[2].a.string\n",
        "            launch_dict['Launch site'].append(launch_site)\n",
        "            #print(launch_site)\n",
        "            \n",
        "            # Payload\n",
        "            # TODO: Append the payload into launch_dict with key `Payload`\n",
        "            payload = row[3].a.string\n",
        "            launch_dict['Payload'].append(payload)\n",
        "            #print(payload)\n",
        "            \n",
        "            # Payload Mass\n",
        "            # TODO: Append the payload_mass into launch_dict with key `Payload mass`\n",
        "            payload_mass = get_mass(row[4])\n",
        "            launch_dict['Payload mass'].append(payload_mass)\n",
        "            #print(payload)\n",
        "            \n",
        "            # Orbit\n",
        "            # TODO: Append the orbit into launch_dict with key `Orbit`\n",
        "            orbit = row[5].a.string\n",
        "            launch_dict['Orbit'].append(orbit)\n",
        "            #print(orbit)\n",
        "            \n",
        "            # Customer\n",
        "            # TODO: Append the customer into launch_dict with key `Customer`\n",
        "            customer = row[6].a.string\n",
        "            launch_dict['Customer'].append(customer)\n",
        "            #print(customer)\n",
        "            \n",
        "            # Launch outcome\n",
        "            # TODO: Append the launch_outcome into launch_dict with key `Launch outcome`\n",
        "            launch_outcome = list(row[7].strings)[0]\n",
        "            launch_dict['Launch outcome'].append(launch_outcome)\n",
        "            #print(launch_outcome)\n",
        "            \n",
        "            # Booster landing\n",
        "            # TODO: Append the launch_outcome into launch_dict with key `Booster landing`\n",
        "            booster_landing = landing_status(row[8])\n",
        "            launch_dict['Booster landing'].append(booster_landing)\n",
        "            #print(booster_landing)\n",
        "            "
      ]
    },
    {
      "cell_type": "markdown",
      "metadata": {
        "id": "QftD0rZVNbls"
      },
      "source": [
        "After you have fill in the parsed launch record values into `launch_dict`, you can create a dataframe from it.\n"
      ]
    },
    {
      "cell_type": "code",
      "execution_count": 15,
      "metadata": {
        "colab": {
          "base_uri": "https://localhost:8080/",
          "height": 302
        },
        "id": "nYso1d6tNblv",
        "outputId": "f968d918-6974-41f5-c612-c0a5c5401f54"
      },
      "outputs": [
        {
          "output_type": "execute_result",
          "data": {
            "text/plain": [
              "  Flight No. Launch site                               Payload Payload mass  \\\n",
              "0          1       CCAFS  Dragon Spacecraft Qualification Unit            0   \n",
              "1          2       CCAFS                                Dragon            0   \n",
              "2          3       CCAFS                                Dragon       525 kg   \n",
              "3          4       CCAFS                          SpaceX CRS-1     4,700 kg   \n",
              "4          5       CCAFS                          SpaceX CRS-2     4,877 kg   \n",
              "\n",
              "  Orbit Customer Launch outcome Version Booster Booster landing  \\\n",
              "0   LEO   SpaceX      Success\\n         F9 v1.1         Failure   \n",
              "1   LEO     NASA        Success         F9 v1.1         Failure   \n",
              "2   LEO     NASA        Success         F9 v1.1    No attempt\\n   \n",
              "3   LEO     NASA      Success\\n         F9 v1.1      No attempt   \n",
              "4   LEO     NASA      Success\\n         F9 v1.1    No attempt\\n   \n",
              "\n",
              "              Date   Time  \n",
              "0      4 June 2010  18:45  \n",
              "1  8 December 2010  15:43  \n",
              "2      22 May 2012  07:44  \n",
              "3   8 October 2012  00:35  \n",
              "4     1 March 2013  15:10  "
            ],
            "text/html": [
              "\n",
              "  <div id=\"df-4caebd01-3c46-40dd-8a79-1bad8b20c834\">\n",
              "    <div class=\"colab-df-container\">\n",
              "      <div>\n",
              "<style scoped>\n",
              "    .dataframe tbody tr th:only-of-type {\n",
              "        vertical-align: middle;\n",
              "    }\n",
              "\n",
              "    .dataframe tbody tr th {\n",
              "        vertical-align: top;\n",
              "    }\n",
              "\n",
              "    .dataframe thead th {\n",
              "        text-align: right;\n",
              "    }\n",
              "</style>\n",
              "<table border=\"1\" class=\"dataframe\">\n",
              "  <thead>\n",
              "    <tr style=\"text-align: right;\">\n",
              "      <th></th>\n",
              "      <th>Flight No.</th>\n",
              "      <th>Launch site</th>\n",
              "      <th>Payload</th>\n",
              "      <th>Payload mass</th>\n",
              "      <th>Orbit</th>\n",
              "      <th>Customer</th>\n",
              "      <th>Launch outcome</th>\n",
              "      <th>Version Booster</th>\n",
              "      <th>Booster landing</th>\n",
              "      <th>Date</th>\n",
              "      <th>Time</th>\n",
              "    </tr>\n",
              "  </thead>\n",
              "  <tbody>\n",
              "    <tr>\n",
              "      <th>0</th>\n",
              "      <td>1</td>\n",
              "      <td>CCAFS</td>\n",
              "      <td>Dragon Spacecraft Qualification Unit</td>\n",
              "      <td>0</td>\n",
              "      <td>LEO</td>\n",
              "      <td>SpaceX</td>\n",
              "      <td>Success\\n</td>\n",
              "      <td>F9 v1.1</td>\n",
              "      <td>Failure</td>\n",
              "      <td>4 June 2010</td>\n",
              "      <td>18:45</td>\n",
              "    </tr>\n",
              "    <tr>\n",
              "      <th>1</th>\n",
              "      <td>2</td>\n",
              "      <td>CCAFS</td>\n",
              "      <td>Dragon</td>\n",
              "      <td>0</td>\n",
              "      <td>LEO</td>\n",
              "      <td>NASA</td>\n",
              "      <td>Success</td>\n",
              "      <td>F9 v1.1</td>\n",
              "      <td>Failure</td>\n",
              "      <td>8 December 2010</td>\n",
              "      <td>15:43</td>\n",
              "    </tr>\n",
              "    <tr>\n",
              "      <th>2</th>\n",
              "      <td>3</td>\n",
              "      <td>CCAFS</td>\n",
              "      <td>Dragon</td>\n",
              "      <td>525 kg</td>\n",
              "      <td>LEO</td>\n",
              "      <td>NASA</td>\n",
              "      <td>Success</td>\n",
              "      <td>F9 v1.1</td>\n",
              "      <td>No attempt\\n</td>\n",
              "      <td>22 May 2012</td>\n",
              "      <td>07:44</td>\n",
              "    </tr>\n",
              "    <tr>\n",
              "      <th>3</th>\n",
              "      <td>4</td>\n",
              "      <td>CCAFS</td>\n",
              "      <td>SpaceX CRS-1</td>\n",
              "      <td>4,700 kg</td>\n",
              "      <td>LEO</td>\n",
              "      <td>NASA</td>\n",
              "      <td>Success\\n</td>\n",
              "      <td>F9 v1.1</td>\n",
              "      <td>No attempt</td>\n",
              "      <td>8 October 2012</td>\n",
              "      <td>00:35</td>\n",
              "    </tr>\n",
              "    <tr>\n",
              "      <th>4</th>\n",
              "      <td>5</td>\n",
              "      <td>CCAFS</td>\n",
              "      <td>SpaceX CRS-2</td>\n",
              "      <td>4,877 kg</td>\n",
              "      <td>LEO</td>\n",
              "      <td>NASA</td>\n",
              "      <td>Success\\n</td>\n",
              "      <td>F9 v1.1</td>\n",
              "      <td>No attempt\\n</td>\n",
              "      <td>1 March 2013</td>\n",
              "      <td>15:10</td>\n",
              "    </tr>\n",
              "  </tbody>\n",
              "</table>\n",
              "</div>\n",
              "      <button class=\"colab-df-convert\" onclick=\"convertToInteractive('df-4caebd01-3c46-40dd-8a79-1bad8b20c834')\"\n",
              "              title=\"Convert this dataframe to an interactive table.\"\n",
              "              style=\"display:none;\">\n",
              "        \n",
              "  <svg xmlns=\"http://www.w3.org/2000/svg\" height=\"24px\"viewBox=\"0 0 24 24\"\n",
              "       width=\"24px\">\n",
              "    <path d=\"M0 0h24v24H0V0z\" fill=\"none\"/>\n",
              "    <path d=\"M18.56 5.44l.94 2.06.94-2.06 2.06-.94-2.06-.94-.94-2.06-.94 2.06-2.06.94zm-11 1L8.5 8.5l.94-2.06 2.06-.94-2.06-.94L8.5 2.5l-.94 2.06-2.06.94zm10 10l.94 2.06.94-2.06 2.06-.94-2.06-.94-.94-2.06-.94 2.06-2.06.94z\"/><path d=\"M17.41 7.96l-1.37-1.37c-.4-.4-.92-.59-1.43-.59-.52 0-1.04.2-1.43.59L10.3 9.45l-7.72 7.72c-.78.78-.78 2.05 0 2.83L4 21.41c.39.39.9.59 1.41.59.51 0 1.02-.2 1.41-.59l7.78-7.78 2.81-2.81c.8-.78.8-2.07 0-2.86zM5.41 20L4 18.59l7.72-7.72 1.47 1.35L5.41 20z\"/>\n",
              "  </svg>\n",
              "      </button>\n",
              "      \n",
              "  <style>\n",
              "    .colab-df-container {\n",
              "      display:flex;\n",
              "      flex-wrap:wrap;\n",
              "      gap: 12px;\n",
              "    }\n",
              "\n",
              "    .colab-df-convert {\n",
              "      background-color: #E8F0FE;\n",
              "      border: none;\n",
              "      border-radius: 50%;\n",
              "      cursor: pointer;\n",
              "      display: none;\n",
              "      fill: #1967D2;\n",
              "      height: 32px;\n",
              "      padding: 0 0 0 0;\n",
              "      width: 32px;\n",
              "    }\n",
              "\n",
              "    .colab-df-convert:hover {\n",
              "      background-color: #E2EBFA;\n",
              "      box-shadow: 0px 1px 2px rgba(60, 64, 67, 0.3), 0px 1px 3px 1px rgba(60, 64, 67, 0.15);\n",
              "      fill: #174EA6;\n",
              "    }\n",
              "\n",
              "    [theme=dark] .colab-df-convert {\n",
              "      background-color: #3B4455;\n",
              "      fill: #D2E3FC;\n",
              "    }\n",
              "\n",
              "    [theme=dark] .colab-df-convert:hover {\n",
              "      background-color: #434B5C;\n",
              "      box-shadow: 0px 1px 3px 1px rgba(0, 0, 0, 0.15);\n",
              "      filter: drop-shadow(0px 1px 2px rgba(0, 0, 0, 0.3));\n",
              "      fill: #FFFFFF;\n",
              "    }\n",
              "  </style>\n",
              "\n",
              "      <script>\n",
              "        const buttonEl =\n",
              "          document.querySelector('#df-4caebd01-3c46-40dd-8a79-1bad8b20c834 button.colab-df-convert');\n",
              "        buttonEl.style.display =\n",
              "          google.colab.kernel.accessAllowed ? 'block' : 'none';\n",
              "\n",
              "        async function convertToInteractive(key) {\n",
              "          const element = document.querySelector('#df-4caebd01-3c46-40dd-8a79-1bad8b20c834');\n",
              "          const dataTable =\n",
              "            await google.colab.kernel.invokeFunction('convertToInteractive',\n",
              "                                                     [key], {});\n",
              "          if (!dataTable) return;\n",
              "\n",
              "          const docLinkHtml = 'Like what you see? Visit the ' +\n",
              "            '<a target=\"_blank\" href=https://colab.research.google.com/notebooks/data_table.ipynb>data table notebook</a>'\n",
              "            + ' to learn more about interactive tables.';\n",
              "          element.innerHTML = '';\n",
              "          dataTable['output_type'] = 'display_data';\n",
              "          await google.colab.output.renderOutput(dataTable, element);\n",
              "          const docLink = document.createElement('div');\n",
              "          docLink.innerHTML = docLinkHtml;\n",
              "          element.appendChild(docLink);\n",
              "        }\n",
              "      </script>\n",
              "    </div>\n",
              "  </div>\n",
              "  "
            ]
          },
          "metadata": {},
          "execution_count": 15
        }
      ],
      "source": [
        "headings = []\n",
        "for key,values in dict(launch_dict).items():\n",
        "    if key not in headings:\n",
        "        headings.append(key)\n",
        "    if values is None:\n",
        "        del launch_dict[key]\n",
        "\n",
        "def pad_dict_list(dict_list, padel):\n",
        "    lmax = 0\n",
        "    for lname in dict_list.keys():\n",
        "        lmax = max(lmax, len(dict_list[lname]))\n",
        "    for lname in dict_list.keys():\n",
        "        ll = len(dict_list[lname])\n",
        "        if  ll < lmax:\n",
        "            dict_list[lname] += [padel] * (lmax - ll)\n",
        "    return dict_list\n",
        "\n",
        "pad_dict_list(launch_dict,0)\n",
        "\n",
        "df = pd.DataFrame(launch_dict)\n",
        "df.head()"
      ]
    },
    {
      "cell_type": "code",
      "execution_count": 16,
      "metadata": {
        "id": "xvTY3aVSNbl1"
      },
      "outputs": [],
      "source": [
        "df=pd.DataFrame(launch_dict)"
      ]
    },
    {
      "cell_type": "markdown",
      "metadata": {
        "id": "LAAiZBcfNbl2"
      },
      "source": [
        "We can now export it to a <b>CSV</b> for the next section, but to make the answers consistent and in case you have difficulties finishing this lab.\n",
        "\n",
        "Following labs will be using a provided dataset to make each lab independent.\n"
      ]
    },
    {
      "cell_type": "markdown",
      "metadata": {
        "id": "4LOFHz-XNbl3"
      },
      "source": [
        "<code>df.to_csv('spacex_web_scraped.csv', index=False)</code>\n"
      ]
    },
    {
      "cell_type": "markdown",
      "metadata": {
        "id": "siXFl9wJNbl4"
      },
      "source": [
        "## Authors\n"
      ]
    },
    {
      "cell_type": "markdown",
      "metadata": {
        "id": "MP8ePVHdNbl5"
      },
      "source": [
        "<a href=\"https://www.linkedin.com/in/yan-luo-96288783/?utm_medium=Exinfluencer&utm_source=Exinfluencer&utm_content=000026UJ&utm_term=10006555&utm_id=NA-SkillsNetwork-Channel-SkillsNetworkCoursesIBMDS0321ENSkillsNetwork26802033-2022-01-01\">Yan Luo</a>\n"
      ]
    },
    {
      "cell_type": "markdown",
      "metadata": {
        "id": "gJbYSCAiNbl5"
      },
      "source": [
        "<a href=\"https://www.linkedin.com/in/nayefaboutayoun/?utm_medium=Exinfluencer&utm_source=Exinfluencer&utm_content=000026UJ&utm_term=10006555&utm_id=NA-SkillsNetwork-Channel-SkillsNetworkCoursesIBMDS0321ENSkillsNetwork26802033-2022-01-01\">Nayef Abou Tayoun</a>\n"
      ]
    },
    {
      "cell_type": "markdown",
      "metadata": {
        "id": "rbbGbyaxNbl6"
      },
      "source": [
        "## Change Log\n"
      ]
    },
    {
      "cell_type": "markdown",
      "metadata": {
        "id": "-OaRe4oaNbl7"
      },
      "source": [
        "| Date (YYYY-MM-DD) | Version | Changed By | Change Description          |\n",
        "| ----------------- | ------- | ---------- | --------------------------- |\n",
        "| 2021-06-09        | 1.0     | Yan Luo    | Tasks updates               |\n",
        "| 2020-11-10        | 1.0     | Nayef      | Created the initial version |\n"
      ]
    },
    {
      "cell_type": "markdown",
      "metadata": {
        "id": "as1dMGMwNbl9"
      },
      "source": [
        "Copyright © 2021 IBM Corporation. All rights reserved.\n"
      ]
    }
  ],
  "metadata": {
    "kernelspec": {
      "display_name": "Python",
      "language": "python",
      "name": "conda-env-python-py"
    },
    "language_info": {
      "codemirror_mode": {
        "name": "ipython",
        "version": 3
      },
      "file_extension": ".py",
      "mimetype": "text/x-python",
      "name": "python",
      "nbconvert_exporter": "python",
      "pygments_lexer": "ipython3",
      "version": "3.7.12"
    },
    "colab": {
      "name": "jupyter-labs-webscraping.ipynb",
      "provenance": [],
      "include_colab_link": true
    }
  },
  "nbformat": 4,
  "nbformat_minor": 0
}